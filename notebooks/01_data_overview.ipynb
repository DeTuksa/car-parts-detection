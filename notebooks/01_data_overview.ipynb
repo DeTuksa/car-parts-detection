{
 "cells": [
  {
   "cell_type": "code",
   "execution_count": 1,
   "id": "68700b3f",
   "metadata": {},
   "outputs": [],
   "source": [
    "import os\n",
    "import sys\n",
    "from pathlib import Path\n",
    "\n",
    "base_dir = Path.cwd().parent\n",
    "scripts_dir = Path(\"C:/Users/apoch/Desktop/dissertation/scripts\")\n",
    "data_dir = Path(\"C:/Users/apoch/Desktop/dissertation/dataset\")\n",
    "\n",
    "if str(scripts_dir) not in sys.path:\n",
    "    sys.path.insert(0, str(scripts_dir))\n",
    "\n",
    "from data_loader import get_data_set_structure, load_images_from_part"
   ]
  },
  {
   "cell_type": "code",
   "execution_count": 3,
   "id": "b8cd9c6a",
   "metadata": {},
   "outputs": [
    {
     "name": "stdout",
     "output_type": "stream",
     "text": [
      "\n",
      "Internal:\n",
      "  Internal: {'Console': 3350, 'Dashboard': 3478, 'Gear stick': 3435, 'Steering wheel': 3503} images\n",
      "  External: {'Air intake': 3407, 'Fog light': 3177, 'Headlight': 3705, 'Tail light': 3563} images\n",
      "\n",
      "External:\n",
      "  Internal: {'Console': 3350, 'Dashboard': 3478, 'Gear stick': 3435, 'Steering wheel': 3503} images\n",
      "  External: {'Air intake': 3407, 'Fog light': 3177, 'Headlight': 3705, 'Tail light': 3563} images\n"
     ]
    }
   ],
   "source": [
    "structure = get_data_set_structure(data_dir)\n",
    "for category, parts in structure.items():\n",
    "    print(f\"\\n{category}:\")\n",
    "    for part, count in structure.items():\n",
    "        print(f\"  {part}: {count} images\")"
   ]
  }
 ],
 "metadata": {
  "kernelspec": {
   "display_name": "venv",
   "language": "python",
   "name": "python3"
  },
  "language_info": {
   "codemirror_mode": {
    "name": "ipython",
    "version": 3
   },
   "file_extension": ".py",
   "mimetype": "text/x-python",
   "name": "python",
   "nbconvert_exporter": "python",
   "pygments_lexer": "ipython3",
   "version": "3.13.3"
  }
 },
 "nbformat": 4,
 "nbformat_minor": 5
}
